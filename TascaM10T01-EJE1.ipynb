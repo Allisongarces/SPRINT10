{
 "cells": [
  {
   "cell_type": "markdown",
   "id": "f80cf20a",
   "metadata": {},
   "source": [
    "## Tasca M10 T01\n",
    "### Ejercicio 1\n",
    "http://quotes.toscrape.com/ con Selenium."
   ]
  },
  {
   "cell_type": "code",
   "execution_count": 26,
   "id": "599a035d",
   "metadata": {},
   "outputs": [],
   "source": [
    "from selenium import webdriver\n",
    "from selenium.webdriver.common.by import By\n",
    "from selenium.webdriver.firefox.options import Options\n",
    "from selenium.webdriver.firefox.service import Service as FirefoxService\n",
    "from webdriver_manager.firefox import GeckoDriverManager\n",
    "import time\n",
    "\n",
    "opts = Options()\n",
    "browser = FirefoxService(Service=opts)"
   ]
  },
  {
   "cell_type": "code",
   "execution_count": 27,
   "id": "e1294254",
   "metadata": {},
   "outputs": [
    {
     "name": "stdout",
     "output_type": "stream",
     "text": [
      "Quotes to Scrape\n",
      "http://quotes.toscrape.com/\n"
     ]
    }
   ],
   "source": [
    "driver = webdriver.Firefox(service=FirefoxService(GeckoDriverManager().install()))\n",
    "driver.get(\"http://quotes.toscrape.com\")\n",
    "print(driver.title)\n",
    "print(driver.current_url)"
   ]
  },
  {
   "cell_type": "code",
   "execution_count": 28,
   "id": "49128d10",
   "metadata": {},
   "outputs": [],
   "source": [
    "login_button = driver.find_element(By.XPATH, \"/html/body/div/div[1]/div[2]/p/a\")\n",
    "login_button.click()"
   ]
  },
  {
   "cell_type": "code",
   "execution_count": 29,
   "id": "f3b19ff4",
   "metadata": {},
   "outputs": [],
   "source": [
    "driver.find_element(By.ID, 'username').send_keys('Allison')\n",
    "driver.find_element(By.ID, 'password').send_keys('Garces')\n",
    "\n",
    "\n",
    "driver.find_element(By.XPATH, \"//input[@value='Login']\").click()"
   ]
  },
  {
   "cell_type": "code",
   "execution_count": 30,
   "id": "ae441d3e",
   "metadata": {},
   "outputs": [
    {
     "name": "stdout",
     "output_type": "stream",
     "text": [
      "Frases por lista =  10\n",
      "\n",
      " “The world as we have created it is a process of our thinking. It cannot be changed without changing our thinking.”\n",
      "None\n",
      "\n",
      " “It is our choices, Harry, that show what we truly are, far more than our abilities.”\n",
      "None\n",
      "\n",
      " “There are only two ways to live your life. One is as though nothing is a miracle. The other is as though everything is a miracle.”\n",
      "None\n",
      "\n",
      " “The person, be it gentleman or lady, who has not pleasure in a good novel, must be intolerably stupid.”\n",
      "None\n",
      "\n",
      " “Imperfection is beauty, madness is genius and it's better to be absolutely ridiculous than absolutely boring.”\n",
      "None\n",
      "\n",
      " “Try not to become a man of success. Rather become a man of value.”\n",
      "None\n",
      "\n",
      " “It is better to be hated for what you are than to be loved for what you are not.”\n",
      "None\n",
      "\n",
      " “I have not failed. I've just found 10,000 ways that won't work.”\n",
      "None\n",
      "\n",
      " “A woman is like a tea bag; you never know how strong it is until it's in hot water.”\n",
      "None\n",
      "\n",
      " “A day without sunshine is like, you know, night.”\n",
      "None\n"
     ]
    }
   ],
   "source": [
    "quotes_list = driver.find_elements(By.CLASS_NAME, 'text')\n",
    "print(\"Frases por lista = \", len(quotes_list))\n",
    "\n",
    "for ele in quotes_list:\n",
    "    quotes_text = ele.text\n",
    "    print(\"\\n\",quotes_text)\n",
    "    print(ele.get_attribute(''))"
   ]
  },
  {
   "cell_type": "code",
   "execution_count": 31,
   "id": "cd1ed735",
   "metadata": {},
   "outputs": [
    {
     "name": "stdout",
     "output_type": "stream",
     "text": [
      "Numero de tags =  40\n",
      "change\n",
      "deep-thoughts\n",
      "thinking\n",
      "world\n",
      "abilities\n",
      "choices\n",
      "inspirational\n",
      "life\n",
      "live\n",
      "miracle\n",
      "miracles\n",
      "aliteracy\n",
      "books\n",
      "classic\n",
      "humor\n",
      "be-yourself\n",
      "inspirational\n",
      "adulthood\n",
      "success\n",
      "value\n",
      "life\n",
      "love\n",
      "edison\n",
      "failure\n",
      "inspirational\n",
      "paraphrased\n",
      "misattributed-eleanor-roosevelt\n",
      "humor\n",
      "obvious\n",
      "simile\n",
      "love\n",
      "inspirational\n",
      "life\n",
      "humor\n",
      "books\n",
      "reading\n",
      "friendship\n",
      "friends\n",
      "truth\n",
      "simile\n"
     ]
    }
   ],
   "source": [
    "tag_list = driver.find_elements(By.CSS_SELECTOR, '.tag')\n",
    "print(\"Numero de tags = \", len(tag_list))\n",
    "\n",
    "for ele in tag_list:\n",
    "    tag_names = ele.text\n",
    "    print(tag_names)"
   ]
  },
  {
   "cell_type": "code",
   "execution_count": 32,
   "id": "4858cea2",
   "metadata": {},
   "outputs": [
    {
     "name": "stdout",
     "output_type": "stream",
     "text": [
      "Albert Einstein\n",
      "André Gide\n",
      "Marilyn Monroe\n",
      "Douglas Adams\n",
      "Mark Twain\n",
      "Allen Saunders\n",
      "Dr. Seuss\n",
      "Albert Einstein\n",
      "George Bernard Shaw\n",
      "Ralph Waldo Emerson\n"
     ]
    }
   ],
   "source": [
    "driver.find_element(By.LINK_TEXT, \"life\").click()\n",
    "\n",
    "tag_autor = driver.find_elements(By.CLASS_NAME, \"author\")\n",
    "\n",
    "for e in tag_autor:\n",
    "    print(e.text)\n",
    "  "
   ]
  },
  {
   "cell_type": "code",
   "execution_count": 33,
   "id": "46641db9",
   "metadata": {},
   "outputs": [],
   "source": [
    "logout_button = driver.find_element(By.XPATH, \"/html/body/div/div[1]/div[2]/p/a\").click()\n"
   ]
  },
  {
   "cell_type": "code",
   "execution_count": 25,
   "id": "4532f13f",
   "metadata": {},
   "outputs": [],
   "source": [
    "driver.close()\n",
    "#quit()"
   ]
  },
  {
   "cell_type": "code",
   "execution_count": null,
   "id": "58f0e2e3",
   "metadata": {},
   "outputs": [],
   "source": []
  }
 ],
 "metadata": {
  "kernelspec": {
   "display_name": "Python 3 (ipykernel)",
   "language": "python",
   "name": "python3"
  },
  "language_info": {
   "codemirror_mode": {
    "name": "ipython",
    "version": 3
   },
   "file_extension": ".py",
   "mimetype": "text/x-python",
   "name": "python",
   "nbconvert_exporter": "python",
   "pygments_lexer": "ipython3",
   "version": "3.9.12"
  }
 },
 "nbformat": 4,
 "nbformat_minor": 5
}
